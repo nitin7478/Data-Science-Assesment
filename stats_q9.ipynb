{
 "cells": [
  {
   "attachments": {},
   "cell_type": "markdown",
   "metadata": {},
   "source": [
    "## Test the hypothesis that the mean scores of all the students are the same. If not, name the student with the highest score."
   ]
  },
  {
   "cell_type": "code",
   "execution_count": 1,
   "metadata": {},
   "outputs": [
    {
     "data": {
      "text/html": [
       "<div>\n",
       "<style scoped>\n",
       "    .dataframe tbody tr th:only-of-type {\n",
       "        vertical-align: middle;\n",
       "    }\n",
       "\n",
       "    .dataframe tbody tr th {\n",
       "        vertical-align: top;\n",
       "    }\n",
       "\n",
       "    .dataframe thead th {\n",
       "        text-align: right;\n",
       "    }\n",
       "</style>\n",
       "<table border=\"1\" class=\"dataframe\">\n",
       "  <thead>\n",
       "    <tr style=\"text-align: right;\">\n",
       "      <th></th>\n",
       "      <th>Exam 1</th>\n",
       "      <th>Exam 2</th>\n",
       "      <th>Final Exam</th>\n",
       "    </tr>\n",
       "    <tr>\n",
       "      <th>Name</th>\n",
       "      <th></th>\n",
       "      <th></th>\n",
       "      <th></th>\n",
       "    </tr>\n",
       "  </thead>\n",
       "  <tbody>\n",
       "    <tr>\n",
       "      <th>Karan</th>\n",
       "      <td>85</td>\n",
       "      <td>90</td>\n",
       "      <td>92</td>\n",
       "    </tr>\n",
       "    <tr>\n",
       "      <th>Deepa</th>\n",
       "      <td>70</td>\n",
       "      <td>89</td>\n",
       "      <td>85</td>\n",
       "    </tr>\n",
       "    <tr>\n",
       "      <th>Karthik</th>\n",
       "      <td>90</td>\n",
       "      <td>85</td>\n",
       "      <td>88</td>\n",
       "    </tr>\n",
       "    <tr>\n",
       "      <th>Chandan</th>\n",
       "      <td>75</td>\n",
       "      <td>70</td>\n",
       "      <td>75</td>\n",
       "    </tr>\n",
       "    <tr>\n",
       "      <th>Jeevan</th>\n",
       "      <td>95</td>\n",
       "      <td>92</td>\n",
       "      <td>96</td>\n",
       "    </tr>\n",
       "  </tbody>\n",
       "</table>\n",
       "</div>"
      ],
      "text/plain": [
       "         Exam 1  Exam 2  Final Exam\n",
       "Name                               \n",
       "Karan        85      90          92\n",
       "Deepa        70      89          85\n",
       "Karthik      90      85          88\n",
       "Chandan      75      70          75\n",
       "Jeevan       95      92          96"
      ]
     },
     "execution_count": 1,
     "metadata": {},
     "output_type": "execute_result"
    }
   ],
   "source": [
    "import pandas as pd\n",
    "import numpy as np \n",
    "from scipy import stats\n",
    "\n",
    "df = pd.DataFrame()\n",
    "\n",
    "df['Name'] = ['Karan' , 'Deepa' , 'Karthik', 'Chandan', 'Jeevan']\n",
    "df['Exam 1'] = [85,70,90,75,95]\n",
    "df['Exam 2'] = [90,89,85,70,92]\n",
    "df['Final Exam'] = [92,85,88,75,96]\n",
    "df.set_index('Name')"
   ]
  },
  {
   "attachments": {},
   "cell_type": "markdown",
   "metadata": {},
   "source": [
    "1. H0 = The null hypothesis for the one-way ANOVA test is that the mean scores of all the students are the same\n",
    "   H1 = The alternate hypothesis is mean scores of all the students are not same\n",
    "2. alpha = 0.05 \n",
    "3. Decision boundry :If the p-value is less than the chosen significance level (e.g., 0.05), we reject the null hypothesis and conclude that there are significant differences in the mean scores among the groups.\n"
   ]
  },
  {
   "cell_type": "code",
   "execution_count": 2,
   "metadata": {},
   "outputs": [
    {
     "name": "stdout",
     "output_type": "stream",
     "text": [
      "One-way ANOVA test results:\n",
      "Statistic: 0.264905962384954\n",
      "p-value: 0.7716496493298088\n"
     ]
    }
   ],
   "source": [
    "# 4\n",
    "# Perform one-way ANOVA test\n",
    "statistic, p_value = stats.f_oneway(df['Exam 1'], df['Exam 2'], df['Final Exam'])\n",
    "\n",
    "# Print the results\n",
    "print(\"One-way ANOVA test results:\")\n",
    "print(\"Statistic:\", statistic)\n",
    "print(\"p-value:\", p_value)\n"
   ]
  },
  {
   "attachments": {},
   "cell_type": "markdown",
   "metadata": {},
   "source": [
    "5. p value is 0.771649 which is < 0.05 , hence we reject null hypothesis H0 and conclude that there are changes in mean scores among the groups\n"
   ]
  },
  {
   "cell_type": "code",
   "execution_count": 9,
   "metadata": {},
   "outputs": [
    {
     "name": "stdout",
     "output_type": "stream",
     "text": [
      "     Name  Exam 1  Exam 2  Final Exam\n",
      "4  Jeevan      95      92          96\n"
     ]
    }
   ],
   "source": [
    "print(f\"{df[df['Final Exam'] == df['Final Exam'].max()]}\")"
   ]
  }
 ],
 "metadata": {
  "kernelspec": {
   "display_name": "alma",
   "language": "python",
   "name": "python3"
  },
  "language_info": {
   "codemirror_mode": {
    "name": "ipython",
    "version": 3
   },
   "file_extension": ".py",
   "mimetype": "text/x-python",
   "name": "python",
   "nbconvert_exporter": "python",
   "pygments_lexer": "ipython3",
   "version": "3.9.0"
  },
  "orig_nbformat": 4
 },
 "nbformat": 4,
 "nbformat_minor": 2
}
