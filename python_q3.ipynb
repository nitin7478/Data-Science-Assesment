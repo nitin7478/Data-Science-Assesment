{
 "cells": [
  {
   "attachments": {},
   "cell_type": "markdown",
   "metadata": {},
   "source": [
    "<center><h1>Python\n"
   ]
  },
  {
   "attachments": {},
   "cell_type": "markdown",
   "metadata": {},
   "source": [
    "Question 3: -\n",
    "Write a program, which would download the data from the provided link, and then read the data and convert\n",
    "that into properly structured data and return it in Excel format.\n"
   ]
  },
  {
   "cell_type": "code",
   "execution_count": 83,
   "metadata": {},
   "outputs": [],
   "source": [
    "#import necessary libraries\n",
    "import pandas as pd \n",
    "import json\n",
    "from urllib.request import urlopen\n",
    "import openpyxl\n",
    "# store url link in url variable\n",
    "url = 'https://raw.githubusercontent.com/Biuni/PokemonGO-Pokedex/master/pokedex.json'\n",
    "# download contents of url using orlpoen , in response variable\n",
    "response = urlopen(url)\n",
    "# load the json data using json.loads\n",
    "data_json = json.loads(response.read())\n",
    "# finally use pd.json_normalize to create dataframe \n",
    "df = pd.json_normalize(data_json['pokemon'])\n",
    "# use .to_excel to export file to specific name\n",
    "df.to_excel('pokeman.xlsx')"
   ]
  }
 ],
 "metadata": {
  "kernelspec": {
   "display_name": "alma",
   "language": "python",
   "name": "python3"
  },
  "language_info": {
   "codemirror_mode": {
    "name": "ipython",
    "version": 3
   },
   "file_extension": ".py",
   "mimetype": "text/x-python",
   "name": "python",
   "nbconvert_exporter": "python",
   "pygments_lexer": "ipython3",
   "version": "3.9.0"
  },
  "orig_nbformat": 4
 },
 "nbformat": 4,
 "nbformat_minor": 2
}
