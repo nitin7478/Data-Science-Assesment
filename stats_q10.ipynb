{
 "cells": [
  {
   "attachments": {},
   "cell_type": "markdown",
   "metadata": {},
   "source": [
    "Q-10. A factory produces light bulbs, and the probability of a bulb being defective is 0.05.\n",
    "The factory produces a large batch of 500 light bulbs.<br>\n",
    "a. What is the probability that exactly 20 bulbs are defective? <br>\n",
    "b. What is the probability that at least 10 bulbs are defective? <br>\n",
    "c. What is the probability that at max 15 bulbs are defective? <br>\n",
    "d. On average, how many defective bulbs would you expect in a batch of 500? <br>"
   ]
  },
  {
   "attachments": {},
   "cell_type": "markdown",
   "metadata": {},
   "source": [
    "### WE will use binomilal distribution here, because problem statement follows below rules\n",
    "1. The trails are independant\n",
    "2. Trails have 2 mutualy exclusive outcomes [success or fail]\n",
    "3. No bias is there [Fair Play]"
   ]
  },
  {
   "cell_type": "code",
   "execution_count": 2,
   "metadata": {},
   "outputs": [
    {
     "name": "stdout",
     "output_type": "stream",
     "text": [
      "Probability of exactly 20 defective bulbs: 0.051616192536641056\n",
      "Probability of at least 10 defective bulbs: 0.9998316463654902\n",
      "Probability of at most 15 defective bulbs: 0.01985837716300661\n",
      "Expected number of defective bulbs: 25.0\n"
     ]
    }
   ],
   "source": [
    "from scipy.stats import binom\n",
    "\n",
    "n = 500  # Total number of bulbs\n",
    "p = 0.05  # Probability of a bulb being defective\n",
    "\n",
    "#Probability of exactly 20 defective bulbs\n",
    "prob_20_defective = binom.pmf(20, n, p)\n",
    "\n",
    "#Probability of at least 10 defective bulbs\n",
    "prob_at_least_10_defective = 1 - binom.cdf(9, n, p)\n",
    "\n",
    "#Probability of at most 15 defective bulbs\n",
    "prob_at_most_15_defective = binom.cdf(15, n, p)\n",
    "\n",
    "#Expected number of defective bulbs\n",
    "expected_defective = n * p\n",
    "\n",
    "print(\"Probability of exactly 20 defective bulbs:\", prob_20_defective)\n",
    "print(\"Probability of at least 10 defective bulbs:\", prob_at_least_10_defective)\n",
    "print(\"Probability of at most 15 defective bulbs:\", prob_at_most_15_defective)\n",
    "print(\"Expected number of defective bulbs:\", expected_defective)\n"
   ]
  },
  {
   "cell_type": "code",
   "execution_count": null,
   "metadata": {},
   "outputs": [],
   "source": []
  }
 ],
 "metadata": {
  "kernelspec": {
   "display_name": "alma",
   "language": "python",
   "name": "python3"
  },
  "language_info": {
   "codemirror_mode": {
    "name": "ipython",
    "version": 3
   },
   "file_extension": ".py",
   "mimetype": "text/x-python",
   "name": "python",
   "nbconvert_exporter": "python",
   "pygments_lexer": "ipython3",
   "version": "3.9.0"
  },
  "orig_nbformat": 4
 },
 "nbformat": 4,
 "nbformat_minor": 2
}
