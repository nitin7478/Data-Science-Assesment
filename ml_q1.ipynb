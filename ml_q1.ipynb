{
 "cells": [
  {
   "attachments": {},
   "cell_type": "markdown",
   "metadata": {},
   "source": [
    "INTERMEDIATE QUESTIONS :\n",
    "Q-1. Imagine you have a dataset where you have different Instagram features\n",
    "like u sername , Caption , Hashtag , Followers , Time_Since_posted , and likes , now your task is\n",
    "to predict the number of likes and Time Since posted and the rest of the features are\n",
    "your input features. Now you have to build a model which can predict the\n",
    "number of likes and Time Since posted.\n"
   ]
  },
  {
   "cell_type": "code",
   "execution_count": 162,
   "metadata": {},
   "outputs": [
    {
     "data": {
      "text/html": [
       "<div>\n",
       "<style scoped>\n",
       "    .dataframe tbody tr th:only-of-type {\n",
       "        vertical-align: middle;\n",
       "    }\n",
       "\n",
       "    .dataframe tbody tr th {\n",
       "        vertical-align: top;\n",
       "    }\n",
       "\n",
       "    .dataframe thead th {\n",
       "        text-align: right;\n",
       "    }\n",
       "</style>\n",
       "<table border=\"1\" class=\"dataframe\">\n",
       "  <thead>\n",
       "    <tr style=\"text-align: right;\">\n",
       "      <th></th>\n",
       "      <th>Unnamed: 0</th>\n",
       "      <th>S.No</th>\n",
       "      <th>USERNAME</th>\n",
       "      <th>Caption</th>\n",
       "      <th>Followers</th>\n",
       "      <th>Hashtags</th>\n",
       "      <th>Time since posted</th>\n",
       "      <th>Likes</th>\n",
       "    </tr>\n",
       "  </thead>\n",
       "  <tbody>\n",
       "    <tr>\n",
       "      <th>0</th>\n",
       "      <td>0</td>\n",
       "      <td>1</td>\n",
       "      <td>mikequindazzi</td>\n",
       "      <td>Who are #DataScientist and what do they do? &gt;&gt;...</td>\n",
       "      <td>1600</td>\n",
       "      <td>#MachineLearning #AI #DataAnalytics #DataScien...</td>\n",
       "      <td>11 hours</td>\n",
       "      <td>139</td>\n",
       "    </tr>\n",
       "    <tr>\n",
       "      <th>1</th>\n",
       "      <td>1</td>\n",
       "      <td>2</td>\n",
       "      <td>drgorillapaints</td>\n",
       "      <td>We all know where it’s going. We just have to ...</td>\n",
       "      <td>880</td>\n",
       "      <td>#deck .#mac #macintosh#sayhello #apple #steve...</td>\n",
       "      <td>2 hours</td>\n",
       "      <td>23</td>\n",
       "    </tr>\n",
       "    <tr>\n",
       "      <th>2</th>\n",
       "      <td>2</td>\n",
       "      <td>3</td>\n",
       "      <td>aitrading_official</td>\n",
       "      <td>Alexander Barinov: 4 years as CFO in multinati...</td>\n",
       "      <td>255</td>\n",
       "      <td>#whoiswho #aitrading #ai #aitradingteam#instat...</td>\n",
       "      <td>2 hours</td>\n",
       "      <td>25</td>\n",
       "    </tr>\n",
       "    <tr>\n",
       "      <th>3</th>\n",
       "      <td>3</td>\n",
       "      <td>4</td>\n",
       "      <td>opensourcedworkplace</td>\n",
       "      <td>sfad</td>\n",
       "      <td>340</td>\n",
       "      <td>#iot #cre#workplace #CDO #bigdata #technology#...</td>\n",
       "      <td>3 hours</td>\n",
       "      <td>49</td>\n",
       "    </tr>\n",
       "    <tr>\n",
       "      <th>4</th>\n",
       "      <td>4</td>\n",
       "      <td>5</td>\n",
       "      <td>crea.vision</td>\n",
       "      <td>Ever missed a call while your phone was chargi...</td>\n",
       "      <td>304</td>\n",
       "      <td>#instamachinelearning #instabigdata#instamarke...</td>\n",
       "      <td>3 hours</td>\n",
       "      <td>30</td>\n",
       "    </tr>\n",
       "  </tbody>\n",
       "</table>\n",
       "</div>"
      ],
      "text/plain": [
       "   Unnamed: 0  S.No              USERNAME   \n",
       "0           0     1         mikequindazzi  \\\n",
       "1           1     2       drgorillapaints   \n",
       "2           2     3    aitrading_official   \n",
       "3           3     4  opensourcedworkplace   \n",
       "4           4     5           crea.vision   \n",
       "\n",
       "                                             Caption  Followers   \n",
       "0  Who are #DataScientist and what do they do? >>...       1600  \\\n",
       "1  We all know where it’s going. We just have to ...        880   \n",
       "2  Alexander Barinov: 4 years as CFO in multinati...        255   \n",
       "3                                               sfad        340   \n",
       "4  Ever missed a call while your phone was chargi...        304   \n",
       "\n",
       "                                            Hashtags Time since posted  Likes  \n",
       "0  #MachineLearning #AI #DataAnalytics #DataScien...          11 hours    139  \n",
       "1   #deck .#mac #macintosh#sayhello #apple #steve...           2 hours     23  \n",
       "2  #whoiswho #aitrading #ai #aitradingteam#instat...           2 hours     25  \n",
       "3  #iot #cre#workplace #CDO #bigdata #technology#...           3 hours     49  \n",
       "4  #instamachinelearning #instabigdata#instamarke...           3 hours     30  "
      ]
     },
     "execution_count": 162,
     "metadata": {},
     "output_type": "execute_result"
    }
   ],
   "source": [
    "import pandas as pd\n",
    "import numpy as np \n",
    "import matplotlib.pyplot as plt\n",
    "import seaborn as sns\n",
    "from sklearn.model_selection import train_test_split\n",
    "\n",
    "df = pd.read_csv('dataset/instagram_reach.csv')\n",
    "df.head()"
   ]
  },
  {
   "cell_type": "code",
   "execution_count": 163,
   "metadata": {},
   "outputs": [
    {
     "name": "stdout",
     "output_type": "stream",
     "text": [
      "<class 'pandas.core.frame.DataFrame'>\n",
      "RangeIndex: 100 entries, 0 to 99\n",
      "Data columns (total 8 columns):\n",
      " #   Column             Non-Null Count  Dtype \n",
      "---  ------             --------------  ----- \n",
      " 0   Unnamed: 0         100 non-null    int64 \n",
      " 1   S.No               100 non-null    int64 \n",
      " 2   USERNAME           100 non-null    object\n",
      " 3   Caption            94 non-null     object\n",
      " 4   Followers          100 non-null    int64 \n",
      " 5   Hashtags           100 non-null    object\n",
      " 6   Time since posted  100 non-null    object\n",
      " 7   Likes              100 non-null    int64 \n",
      "dtypes: int64(4), object(4)\n",
      "memory usage: 6.4+ KB\n"
     ]
    }
   ],
   "source": [
    "df.info()"
   ]
  },
  {
   "cell_type": "code",
   "execution_count": 164,
   "metadata": {},
   "outputs": [
    {
     "data": {
      "text/plain": [
       "Index(['Unnamed: 0', 'S.No', 'USERNAME', 'Caption', 'Followers', 'Hashtags',\n",
       "       'Time since posted', 'Likes'],\n",
       "      dtype='object')"
      ]
     },
     "execution_count": 164,
     "metadata": {},
     "output_type": "execute_result"
    }
   ],
   "source": [
    "df.columns"
   ]
  },
  {
   "cell_type": "code",
   "execution_count": 165,
   "metadata": {},
   "outputs": [],
   "source": [
    "# drop non useful columns from dataset \n",
    "if ('Unnamed: 0' or 'S.No') in df.columns:\n",
    "    df.drop(['Unnamed: 0', 'S.No'], inplace= True , axis = 1)\n",
    "# fill missing value with mode \n",
    "df['Caption'].fillna(df['Caption'].mode(), inplace= True)"
   ]
  },
  {
   "cell_type": "code",
   "execution_count": 166,
   "metadata": {},
   "outputs": [
    {
     "name": "stdout",
     "output_type": "stream",
     "text": [
      "<class 'pandas.core.frame.DataFrame'>\n",
      "RangeIndex: 100 entries, 0 to 99\n",
      "Data columns (total 6 columns):\n",
      " #   Column             Non-Null Count  Dtype \n",
      "---  ------             --------------  ----- \n",
      " 0   USERNAME           100 non-null    object\n",
      " 1   Caption            100 non-null    object\n",
      " 2   Followers          100 non-null    int64 \n",
      " 3   Hashtags           100 non-null    object\n",
      " 4   Time since posted  100 non-null    object\n",
      " 5   Likes              100 non-null    int64 \n",
      "dtypes: int64(2), object(4)\n",
      "memory usage: 4.8+ KB\n"
     ]
    }
   ],
   "source": [
    "df.info()"
   ]
  },
  {
   "cell_type": "code",
   "execution_count": 167,
   "metadata": {},
   "outputs": [],
   "source": [
    "# we will split caption words and hashtags , as algorithms only understand numerical values\n",
    "df['Caption_Words_No'] = [len(i) for i in df['Caption'].str.split(' ')]\n",
    "df['Hashtags_words_No'] = [len(i) for i in df['Hashtags'].str.split(' ')]"
   ]
  },
  {
   "cell_type": "code",
   "execution_count": 168,
   "metadata": {},
   "outputs": [
    {
     "data": {
      "text/plain": [
       "USERNAME                         object\n",
       "Caption                          object\n",
       "Followers                         int64\n",
       "Hashtags                         object\n",
       "Time since posted                object\n",
       "Likes                             int64\n",
       "Caption_Words_No                  int64\n",
       "Hashtags_words_No                 int64\n",
       "time_since_posted_in_numeric    float64\n",
       "dtype: object"
      ]
     },
     "execution_count": 168,
     "metadata": {},
     "output_type": "execute_result"
    }
   ],
   "source": [
    "df['Time since posted'].unique()\n",
    "# we will remove hourse from string and covert it to  integer\n",
    "df['time_since_posted_in_numeric'] =  df['Time since posted'].str.replace(' hours', '').astype('float')\n",
    "df.dtypes"
   ]
  },
  {
   "cell_type": "code",
   "execution_count": 169,
   "metadata": {},
   "outputs": [],
   "source": [
    "# we will scale data to same scale using standard scaler\n",
    "# from sklearn.preprocessing import StandardScaler\n",
    "# sc = StandardScaler()\n",
    "# df = sc.fit_transform(df.select_dtypes(include = 'number'))\n",
    "# df = pd.DataFrame(df , columns= sc.get_feature_names_out())\n",
    "# df"
   ]
  },
  {
   "attachments": {},
   "cell_type": "markdown",
   "metadata": {},
   "source": [
    "### tried scandard scaling for data , but error is increasing , hence skipped the test"
   ]
  },
  {
   "cell_type": "code",
   "execution_count": 170,
   "metadata": {},
   "outputs": [
    {
     "name": "stdout",
     "output_type": "stream",
     "text": [
      "Best Parameters: [{'max_depth': 1, 'n_estimators': 50}] Random Forest\n",
      "Root Mean Squared Error (RMSE): 26.30322839586846\n",
      "Mean Absolute Error (MAE): 14.834145400202196\n",
      "R-squared (R2): 0.337317118064878\n",
      "\n",
      "\n",
      "Best Parameters: [{'max_depth': 2, 'n_estimators': 50}] Gradient Boosting\n",
      "Root Mean Squared Error (RMSE): 28.184914438278255\n",
      "Mean Absolute Error (MAE): 14.05689745441751\n",
      "R-squared (R2): 0.07021992632640345\n",
      "\n",
      "\n",
      "Best Parameters: [{'C': 10, 'epsilon': 0.1}] Support Vector Regression\n",
      "Root Mean Squared Error (RMSE): 26.277444495871908\n",
      "Mean Absolute Error (MAE): 12.28958437452587\n",
      "R-squared (R2): -0.09784869028629983\n",
      "\n",
      "\n"
     ]
    }
   ],
   "source": [
    "import pandas as pd\n",
    "from sklearn.model_selection import train_test_split, GridSearchCV\n",
    "from sklearn.multioutput import MultiOutputRegressor\n",
    "from sklearn.ensemble import RandomForestRegressor, GradientBoostingRegressor\n",
    "from sklearn.svm import SVR\n",
    "from sklearn.metrics import mean_squared_error, mean_absolute_error, r2_score\n",
    "\n",
    "# Select the input features and target variables\n",
    "input_features = ['Followers', 'Caption_Words_No', 'Hashtags_words_No']\n",
    "target_variables = ['time_since_posted_in_numeric', 'Likes']\n",
    "\n",
    "# Split the data into training and testing sets\n",
    "X_train, X_test, y_train, y_test = train_test_split(df[input_features], df[target_variables], test_size=0.2, random_state=42)\n",
    "\n",
    "# Define a dictionary of models and their hyperparameters for GridSearchCV\n",
    "models = {\n",
    "    'Random Forest': {\n",
    "        'estimator': RandomForestRegressor(),\n",
    "        'param_grid': {'n_estimators': [100, 50, 300 ,10 , 500 , 5], 'max_depth': [None, 5, 10 , 2 , 1, 4]},\n",
    "        'scoring': 'neg_mean_squared_error'\n",
    "    },\n",
    "    'Gradient Boosting': {\n",
    "        'estimator': GradientBoostingRegressor(),\n",
    "        'param_grid': {'n_estimators': [100, 50, 300], 'max_depth': [3, 5, 10 , 2]},\n",
    "        'scoring': 'neg_mean_squared_error'\n",
    "    },\n",
    "    'Support Vector Regression': {\n",
    "        'estimator': SVR(),\n",
    "        'param_grid': {'C': [0.1, 1, 10], 'epsilon': [0.1, 0.01, 0.001]},\n",
    "        'scoring': 'neg_mean_squared_error'\n",
    "    }\n",
    "}\n",
    "\n",
    "# Perform grid search and evaluate multiple models using separate GridSearchCV objects\n",
    "for model_name, model_params in models.items():\n",
    "    grid_search = GridSearchCV(model_params['estimator'], param_grid=model_params['param_grid'],scoring = 'r2', cv=10)\n",
    "    model = MultiOutputRegressor(grid_search)\n",
    "    \n",
    "    # Train the model on the entire training data\n",
    "    model.fit(X_train, y_train)\n",
    "    y_pred = model.predict(X_test)\n",
    "\n",
    "    best_params = [model.estimators_[i].best_params_ for i in range(1, len(model.estimators_))]\n",
    "    \n",
    "    # Evaluate the model\n",
    "    mse = mean_squared_error(y_test, y_pred)\n",
    "    rmse = mse ** 0.5\n",
    "    mae = mean_absolute_error(y_test, y_pred)\n",
    "    r2 = r2_score(y_test, y_pred)\n",
    "    \n",
    "    # Print the evaluation metrics\n",
    "    print(\"Best Parameters:\", best_params , model_name)\n",
    "\n",
    "    print(\"Root Mean Squared Error (RMSE):\", rmse)\n",
    "    print(\"Mean Absolute Error (MAE):\", mae)\n",
    "    print(\"R-squared (R2):\", r2)\n",
    "    print(\"\\n\")\n"
   ]
  },
  {
   "attachments": {},
   "cell_type": "markdown",
   "metadata": {},
   "source": [
    "# From above training we wil conclude that random forest with above parameters is best fit model"
   ]
  },
  {
   "cell_type": "code",
   "execution_count": 171,
   "metadata": {},
   "outputs": [
    {
     "name": "stdout",
     "output_type": "stream",
     "text": [
      "Root Mean Squared Error (RMSE): 27.321273351012156\n",
      "Mean Absolute Error (MAE): 13.85113860028683\n",
      "R-squared (R2): 0.30391749728158723\n",
      "\n",
      "\n"
     ]
    }
   ],
   "source": [
    "model = MultiOutputRegressor(RandomForestRegressor(n_estimators= 10, max_depth= 2 , random_state= 45))\n",
    "model.fit(X_train , y_train)\n",
    "y_hat = randomforest.predict(X_test)\n",
    "rmse = mean_squared_error(y_test, y_hat) ** 0.5\n",
    "mae = mean_absolute_error(y_test, y_hat)\n",
    "r2 = r2_score(y_test, y_hat)\n",
    "print(\"Root Mean Squared Error (RMSE):\", rmse)\n",
    "print(\"Mean Absolute Error (MAE):\", mae)\n",
    "print(\"R-squared (R2):\", r2)\n",
    "print(\"\\n\")\n"
   ]
  },
  {
   "cell_type": "code",
   "execution_count": null,
   "metadata": {},
   "outputs": [],
   "source": []
  }
 ],
 "metadata": {
  "kernelspec": {
   "display_name": "alma",
   "language": "python",
   "name": "python3"
  },
  "language_info": {
   "codemirror_mode": {
    "name": "ipython",
    "version": 3
   },
   "file_extension": ".py",
   "mimetype": "text/x-python",
   "name": "python",
   "nbconvert_exporter": "python",
   "pygments_lexer": "ipython3",
   "version": "3.9.0"
  },
  "orig_nbformat": 4
 },
 "nbformat": 4,
 "nbformat_minor": 2
}
