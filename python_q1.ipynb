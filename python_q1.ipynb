{
 "cells": [
  {
   "attachments": {},
   "cell_type": "markdown",
   "metadata": {},
   "source": [
    "<center> <h1>Python"
   ]
  },
  {
   "attachments": {},
   "cell_type": "markdown",
   "metadata": {},
   "source": [
    "### Question 1:\n",
    "Write a program that takes a string as input, and counts the frequency of each word in the string, there might\n",
    "be repeated characters in the string. Your task is to find the highest frequency and returns the length of the\n",
    "highest-frequency word.\n"
   ]
  },
  {
   "cell_type": "code",
   "execution_count": 28,
   "metadata": {},
   "outputs": [],
   "source": [
    "def check_word(x):\n",
    "    split_words = x.split(\" \")\n",
    "    counter = 0\n",
    "    frequency = {}\n",
    "    for word in split_words:\n",
    "        if word in frequency:\n",
    "            frequency[word] += 1\n",
    "        else:\n",
    "            frequency[word] = 1\n",
    "    # get maximum occured word\n",
    "    print(frequency)\n",
    "    max_len = max(frequency.values())\n",
    "    for word , count in frequency.items():\n",
    "        if count == max_len:\n",
    "            print(count , max_len)\n",
    "    print(max_len)"
   ]
  },
  {
   "cell_type": "code",
   "execution_count": 29,
   "metadata": {},
   "outputs": [
    {
     "name": "stdout",
     "output_type": "stream",
     "text": [
      "{'write': 3, 'all': 1, 'the': 1, 'number': 1, 'from': 3, '1': 1, 'to': 1, '100': 1}\n",
      "3 3\n",
      "3 3\n",
      "3\n"
     ]
    }
   ],
   "source": [
    "check_word(\"write write write all the number from from from 1 to 100\")"
   ]
  },
  {
   "cell_type": "code",
   "execution_count": 22,
   "metadata": {},
   "outputs": [
    {
     "name": "stdout",
     "output_type": "stream",
     "text": [
      "{'Red': 2, 'red': 1, 'yellow': 3, 'bee': 5, 'yello': 1}\n",
      "max_len 5 count : 5\n",
      "3\n",
      "5\n"
     ]
    }
   ],
   "source": [
    "check_word(\"Red red Red yellow yellow yellow bee bee bee bee bee yello\")"
   ]
  },
  {
   "cell_type": "code",
   "execution_count": 8,
   "metadata": {},
   "outputs": [
    {
     "name": "stdout",
     "output_type": "stream",
     "text": [
      "{'red': 5, 'bee': 1, 'yellow': 1, 'white': 3}\n",
      "5\n"
     ]
    }
   ],
   "source": [
    "check_word(\"red red red red red bee yellow white white white\")"
   ]
  },
  {
   "cell_type": "code",
   "execution_count": null,
   "metadata": {},
   "outputs": [],
   "source": []
  }
 ],
 "metadata": {
  "kernelspec": {
   "display_name": "alma",
   "language": "python",
   "name": "python3"
  },
  "language_info": {
   "codemirror_mode": {
    "name": "ipython",
    "version": 3
   },
   "file_extension": ".py",
   "mimetype": "text/x-python",
   "name": "python",
   "nbconvert_exporter": "python",
   "pygments_lexer": "ipython3",
   "version": "3.9.0"
  },
  "orig_nbformat": 4
 },
 "nbformat": 4,
 "nbformat_minor": 2
}
