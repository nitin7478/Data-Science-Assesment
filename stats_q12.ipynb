{
 "cells": [
  {
   "attachments": {},
   "cell_type": "markdown",
   "metadata": {},
   "source": [
    "Q-12. A pharmaceutical company develops a new drug and wants to compare its\n",
    "effectiveness against a standard drug for treating a particular condition. They conduct a\n",
    "study with two groups: Group A receives the new drug, and Group B receives the standard\n",
    "drug. The company measures the improvement in a specific symptom for both groups after\n",
    "a 4-week treatment period.<br><br>\n",
    "a. The company collects data from 30 patients in each group and calculates the\n",
    "mean improvement score and the standard deviation of improvement for each\n",
    "group. The mean improvement score for Group A is 2.5 with a standard\n",
    "deviation of 0.8, while the mean improvement score for Group B is 2.2 with a\n",
    "standard deviation of 0.6. Conduct a t-test to determine if there is a significant\n",
    "difference in the mean improvement scores between the two groups. Use a\n",
    "significance level of 0.05.<br><br>\n",
    "b. Based on the t-test results, state whether the null hypothesis should be\n",
    "rejected or not. Provide a conclusion in the context of the study.\n"
   ]
  },
  {
   "attachments": {},
   "cell_type": "markdown",
   "metadata": {},
   "source": [
    "1. H0 : there  is not enough evidence to suggest a significant difference <br>\n",
    "   H1 : there  is enough evidence to suggest a significant difference\n",
    "2. group1  data n1 = 30 , mean1 = 2.5 , std_dev1 = 0.8  <br>\n",
    "   group2 data  n2 = 30 , mean2 = 2.2 , std_dev2 = 0.6 <br>\n",
    "   alpha/significance value = 0.05\n",
    "3. if (-2.064 < t value  < 2.064 we) accept null hypothesis  , else we reject null hypothesis"
   ]
  },
  {
   "cell_type": "code",
   "execution_count": 2,
   "metadata": {},
   "outputs": [
    {
     "name": "stdout",
     "output_type": "stream",
     "text": [
      "Independent Two-Sample t-test results:\n",
      "t-statistic: 1.6431676725154976\n",
      "p-value: 0.10575916705583671\n"
     ]
    }
   ],
   "source": [
    "# 4 perform tests\n",
    "import scipy.stats as stats\n",
    "\n",
    "# Define the data\n",
    "n1 = 30\n",
    "mean1 = 2.5\n",
    "std_dev1 = 0.8\n",
    "\n",
    "n2 = 30\n",
    "mean2 = 2.2\n",
    "std_dev2 = 0.6\n",
    "\n",
    "# Conduct independent two-sample t-test\n",
    "t_statistic, p_value = stats.ttest_ind_from_stats(mean1, std_dev1, n1, mean2, std_dev2, n2)\n",
    "\n",
    "# Print the results\n",
    "print(\"Independent Two-Sample t-test results:\")\n",
    "print(\"t-statistic:\", t_statistic)\n",
    "print(\"p-value:\", p_value)\n"
   ]
  },
  {
   "attachments": {},
   "cell_type": "markdown",
   "metadata": {},
   "source": [
    "5. We accept null hypothesis as t value < 2.064 ,  we accept the null hypothesis and conclude that there    is not enough evidence to suggest a significant difference"
   ]
  },
  {
   "attachments": {},
   "cell_type": "markdown",
   "metadata": {},
   "source": [
    "We can check by p-value also :"
   ]
  },
  {
   "attachments": {},
   "cell_type": "markdown",
   "metadata": {},
   "source": [
    "H0 : If the p-value is greater than or equal to 0.05, we accept the null hypothesis and conclude that there    is not enough evidence to suggest a significant difference.<br>\n",
    "   H1 :  If the p-value is less than or equal to 0.05, we reject the null hypothesis and conclude that there is enough evidence to suggest a significant difference."
   ]
  }
 ],
 "metadata": {
  "kernelspec": {
   "display_name": "alma",
   "language": "python",
   "name": "python3"
  },
  "language_info": {
   "codemirror_mode": {
    "name": "ipython",
    "version": 3
   },
   "file_extension": ".py",
   "mimetype": "text/x-python",
   "name": "python",
   "nbconvert_exporter": "python",
   "pygments_lexer": "ipython3",
   "version": "3.9.0"
  },
  "orig_nbformat": 4
 },
 "nbformat": 4,
 "nbformat_minor": 2
}
